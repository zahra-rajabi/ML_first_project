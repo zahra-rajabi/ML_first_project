{
 "cells": [
  {
   "cell_type": "markdown",
   "metadata": {},
   "source": [
    "# تمرین اول زهرا رجبی"
   ]
  },
  {
   "cell_type": "markdown",
   "metadata": {},
   "source": [
    "## linear regression on House price prediction - SEATTLE dataset"
   ]
  },
  {
   "cell_type": "code",
   "execution_count": 25,
   "metadata": {},
   "outputs": [],
   "source": [
    "import pandas as pd \n",
    "from sklearn.model_selection import train_test_split  \n",
    "from sklearn.preprocessing import StandardScaler \n",
    "from sklearn.linear_model import LinearRegression\n",
    "from sklearn.metrics import mean_squared_error, r2_score\n",
    "import numpy as np\n",
    "import matplotlib.pyplot as plt\n",
    "import seaborn as sns\n",
    "import torch\n",
    "import torch.nn as nn\n",
    "import torch.optim as optim\n",
    "\n"
   ]
  },
  {
   "cell_type": "code",
   "execution_count": 26,
   "metadata": {},
   "outputs": [],
   "source": [
    "df = pd.read_csv(\"housePrice.csv\")"
   ]
  },
  {
   "cell_type": "code",
   "execution_count": 27,
   "metadata": {},
   "outputs": [
    {
     "name": "stdout",
     "output_type": "stream",
     "text": [
      "first five columns\n",
      "  Area  Room  Parking  Warehouse  Elevator         Address         Price  \\\n",
      "0   63     1     True       True      True         Shahran  1.850000e+09   \n",
      "1   60     1     True       True      True         Shahran  1.850000e+09   \n",
      "2   79     2     True       True      True          Pardis  5.500000e+08   \n",
      "3   95     2     True       True      True   Shahrake Qods  9.025000e+08   \n",
      "4  123     2     True       True      True  Shahrake Gharb  7.000000e+09   \n",
      "\n",
      "   Price(USD)  \n",
      "0    61666.67  \n",
      "1    61666.67  \n",
      "2    18333.33  \n",
      "3    30083.33  \n",
      "4   233333.33  \n",
      "------------------------------------------------------\n",
      "<class 'pandas.core.frame.DataFrame'>\n",
      "RangeIndex: 3479 entries, 0 to 3478\n",
      "Data columns (total 8 columns):\n",
      " #   Column      Non-Null Count  Dtype  \n",
      "---  ------      --------------  -----  \n",
      " 0   Area        3479 non-null   object \n",
      " 1   Room        3479 non-null   int64  \n",
      " 2   Parking     3479 non-null   bool   \n",
      " 3   Warehouse   3479 non-null   bool   \n",
      " 4   Elevator    3479 non-null   bool   \n",
      " 5   Address     3456 non-null   object \n",
      " 6   Price       3479 non-null   float64\n",
      " 7   Price(USD)  3479 non-null   float64\n",
      "dtypes: bool(3), float64(2), int64(1), object(2)\n",
      "memory usage: 146.2+ KB\n",
      "None\n",
      "------------------------------------------------------\n",
      "missing values number\n",
      "23\n"
     ]
    }
   ],
   "source": [
    "print('first five columns')\n",
    "print(df.head())\n",
    "print(\"------------------------------------------------------\")\n",
    "print(df.info())\n",
    "print(\"------------------------------------------------------\")\n",
    "print(\"missing values number\")\n",
    "print(df.isnull().sum().sum())"
   ]
  },
  {
   "cell_type": "code",
   "execution_count": 28,
   "metadata": {},
   "outputs": [
    {
     "name": "stdout",
     "output_type": "stream",
     "text": [
      "تعداد داده های موجود : 3479\n",
      "تعداد داده‌های باقی‌مانده پس از حذف تکراری‌ها :  3271\n"
     ]
    }
   ],
   "source": [
    "print(f\"تعداد داده های موجود : {df.shape[0]}\")\n",
    "df = df.drop_duplicates()\n",
    "print(f\"تعداد داده‌های باقی‌مانده پس از حذف تکراری‌ها :  {df.shape[0]}\")"
   ]
  },
  {
   "cell_type": "code",
   "execution_count": 29,
   "metadata": {},
   "outputs": [
    {
     "name": "stdout",
     "output_type": "stream",
     "text": [
      "Area          0\n",
      "Room          0\n",
      "Parking       0\n",
      "Warehouse     0\n",
      "Elevator      0\n",
      "Address       0\n",
      "Price         0\n",
      "Price(USD)    0\n",
      "dtype: int64\n"
     ]
    }
   ],
   "source": [
    "df[\"Address\"] = df[\"Address\"].fillna(\"Unknown\")\n",
    "print(df.isnull().sum())"
   ]
  },
  {
   "cell_type": "code",
   "execution_count": 30,
   "metadata": {},
   "outputs": [
    {
     "data": {
      "text/html": [
       "<div>\n",
       "<style scoped>\n",
       "    .dataframe tbody tr th:only-of-type {\n",
       "        vertical-align: middle;\n",
       "    }\n",
       "\n",
       "    .dataframe tbody tr th {\n",
       "        vertical-align: top;\n",
       "    }\n",
       "\n",
       "    .dataframe thead th {\n",
       "        text-align: right;\n",
       "    }\n",
       "</style>\n",
       "<table border=\"1\" class=\"dataframe\">\n",
       "  <thead>\n",
       "    <tr style=\"text-align: right;\">\n",
       "      <th></th>\n",
       "      <th>Area</th>\n",
       "      <th>Room</th>\n",
       "      <th>Parking</th>\n",
       "      <th>Warehouse</th>\n",
       "      <th>Elevator</th>\n",
       "      <th>Price</th>\n",
       "      <th>Price(USD)</th>\n",
       "      <th>Address_Abbasabad</th>\n",
       "      <th>Address_Absard</th>\n",
       "      <th>Address_Abuzar</th>\n",
       "      <th>...</th>\n",
       "      <th>Address_Waterfall</th>\n",
       "      <th>Address_West Ferdows Boulevard</th>\n",
       "      <th>Address_West Pars</th>\n",
       "      <th>Address_Yaftabad</th>\n",
       "      <th>Address_Yakhchiabad</th>\n",
       "      <th>Address_Yousef Abad</th>\n",
       "      <th>Address_Zafar</th>\n",
       "      <th>Address_Zaferanieh</th>\n",
       "      <th>Address_Zargandeh</th>\n",
       "      <th>Address_Zibadasht</th>\n",
       "    </tr>\n",
       "  </thead>\n",
       "  <tbody>\n",
       "    <tr>\n",
       "      <th>0</th>\n",
       "      <td>63</td>\n",
       "      <td>1</td>\n",
       "      <td>True</td>\n",
       "      <td>True</td>\n",
       "      <td>True</td>\n",
       "      <td>1.850000e+09</td>\n",
       "      <td>61666.67</td>\n",
       "      <td>False</td>\n",
       "      <td>False</td>\n",
       "      <td>False</td>\n",
       "      <td>...</td>\n",
       "      <td>False</td>\n",
       "      <td>False</td>\n",
       "      <td>False</td>\n",
       "      <td>False</td>\n",
       "      <td>False</td>\n",
       "      <td>False</td>\n",
       "      <td>False</td>\n",
       "      <td>False</td>\n",
       "      <td>False</td>\n",
       "      <td>False</td>\n",
       "    </tr>\n",
       "    <tr>\n",
       "      <th>1</th>\n",
       "      <td>60</td>\n",
       "      <td>1</td>\n",
       "      <td>True</td>\n",
       "      <td>True</td>\n",
       "      <td>True</td>\n",
       "      <td>1.850000e+09</td>\n",
       "      <td>61666.67</td>\n",
       "      <td>False</td>\n",
       "      <td>False</td>\n",
       "      <td>False</td>\n",
       "      <td>...</td>\n",
       "      <td>False</td>\n",
       "      <td>False</td>\n",
       "      <td>False</td>\n",
       "      <td>False</td>\n",
       "      <td>False</td>\n",
       "      <td>False</td>\n",
       "      <td>False</td>\n",
       "      <td>False</td>\n",
       "      <td>False</td>\n",
       "      <td>False</td>\n",
       "    </tr>\n",
       "    <tr>\n",
       "      <th>2</th>\n",
       "      <td>79</td>\n",
       "      <td>2</td>\n",
       "      <td>True</td>\n",
       "      <td>True</td>\n",
       "      <td>True</td>\n",
       "      <td>5.500000e+08</td>\n",
       "      <td>18333.33</td>\n",
       "      <td>False</td>\n",
       "      <td>False</td>\n",
       "      <td>False</td>\n",
       "      <td>...</td>\n",
       "      <td>False</td>\n",
       "      <td>False</td>\n",
       "      <td>False</td>\n",
       "      <td>False</td>\n",
       "      <td>False</td>\n",
       "      <td>False</td>\n",
       "      <td>False</td>\n",
       "      <td>False</td>\n",
       "      <td>False</td>\n",
       "      <td>False</td>\n",
       "    </tr>\n",
       "    <tr>\n",
       "      <th>3</th>\n",
       "      <td>95</td>\n",
       "      <td>2</td>\n",
       "      <td>True</td>\n",
       "      <td>True</td>\n",
       "      <td>True</td>\n",
       "      <td>9.025000e+08</td>\n",
       "      <td>30083.33</td>\n",
       "      <td>False</td>\n",
       "      <td>False</td>\n",
       "      <td>False</td>\n",
       "      <td>...</td>\n",
       "      <td>False</td>\n",
       "      <td>False</td>\n",
       "      <td>False</td>\n",
       "      <td>False</td>\n",
       "      <td>False</td>\n",
       "      <td>False</td>\n",
       "      <td>False</td>\n",
       "      <td>False</td>\n",
       "      <td>False</td>\n",
       "      <td>False</td>\n",
       "    </tr>\n",
       "    <tr>\n",
       "      <th>4</th>\n",
       "      <td>123</td>\n",
       "      <td>2</td>\n",
       "      <td>True</td>\n",
       "      <td>True</td>\n",
       "      <td>True</td>\n",
       "      <td>7.000000e+09</td>\n",
       "      <td>233333.33</td>\n",
       "      <td>False</td>\n",
       "      <td>False</td>\n",
       "      <td>False</td>\n",
       "      <td>...</td>\n",
       "      <td>False</td>\n",
       "      <td>False</td>\n",
       "      <td>False</td>\n",
       "      <td>False</td>\n",
       "      <td>False</td>\n",
       "      <td>False</td>\n",
       "      <td>False</td>\n",
       "      <td>False</td>\n",
       "      <td>False</td>\n",
       "      <td>False</td>\n",
       "    </tr>\n",
       "  </tbody>\n",
       "</table>\n",
       "<p>5 rows × 199 columns</p>\n",
       "</div>"
      ],
      "text/plain": [
       "  Area  Room  Parking  Warehouse  Elevator         Price  Price(USD)  \\\n",
       "0   63     1     True       True      True  1.850000e+09    61666.67   \n",
       "1   60     1     True       True      True  1.850000e+09    61666.67   \n",
       "2   79     2     True       True      True  5.500000e+08    18333.33   \n",
       "3   95     2     True       True      True  9.025000e+08    30083.33   \n",
       "4  123     2     True       True      True  7.000000e+09   233333.33   \n",
       "\n",
       "   Address_Abbasabad  Address_Absard  Address_Abuzar  ...  Address_Waterfall  \\\n",
       "0              False           False           False  ...              False   \n",
       "1              False           False           False  ...              False   \n",
       "2              False           False           False  ...              False   \n",
       "3              False           False           False  ...              False   \n",
       "4              False           False           False  ...              False   \n",
       "\n",
       "   Address_West Ferdows Boulevard  Address_West Pars  Address_Yaftabad  \\\n",
       "0                           False              False             False   \n",
       "1                           False              False             False   \n",
       "2                           False              False             False   \n",
       "3                           False              False             False   \n",
       "4                           False              False             False   \n",
       "\n",
       "   Address_Yakhchiabad  Address_Yousef Abad  Address_Zafar  \\\n",
       "0                False                False          False   \n",
       "1                False                False          False   \n",
       "2                False                False          False   \n",
       "3                False                False          False   \n",
       "4                False                False          False   \n",
       "\n",
       "   Address_Zaferanieh  Address_Zargandeh  Address_Zibadasht  \n",
       "0               False              False              False  \n",
       "1               False              False              False  \n",
       "2               False              False              False  \n",
       "3               False              False              False  \n",
       "4               False              False              False  \n",
       "\n",
       "[5 rows x 199 columns]"
      ]
     },
     "execution_count": 30,
     "metadata": {},
     "output_type": "execute_result"
    }
   ],
   "source": [
    "\n",
    "# تبدیل داده متنی ادرس به مقدار عددی one hot coding\n",
    "df = pd.get_dummies(df, columns=[\"Address\"], drop_first=True)\n",
    "df.head()"
   ]
  },
  {
   "cell_type": "code",
   "execution_count": 31,
   "metadata": {},
   "outputs": [
    {
     "data": {
      "text/plain": [
       "Index(['Area', 'Room', 'Parking', 'Warehouse', 'Elevator', 'Price',\n",
       "       'Price(USD)', 'Address_Abbasabad', 'Address_Absard', 'Address_Abuzar',\n",
       "       ...\n",
       "       'Address_Waterfall', 'Address_West Ferdows Boulevard',\n",
       "       'Address_West Pars', 'Address_Yaftabad', 'Address_Yakhchiabad',\n",
       "       'Address_Yousef Abad', 'Address_Zafar', 'Address_Zaferanieh',\n",
       "       'Address_Zargandeh', 'Address_Zibadasht'],\n",
       "      dtype='object', length=199)"
      ]
     },
     "execution_count": 31,
     "metadata": {},
     "output_type": "execute_result"
    }
   ],
   "source": [
    "df.columns"
   ]
  },
  {
   "cell_type": "code",
   "execution_count": 32,
   "metadata": {},
   "outputs": [
    {
     "name": "stdout",
     "output_type": "stream",
     "text": [
      " X: (3271, 197)\n",
      " y: (3271,)\n"
     ]
    }
   ],
   "source": [
    "X = df.drop(columns=[\"Price\", \"Price(USD)\"])\n",
    "y = df[\"Price(USD)\"]\n",
    "\n",
    "print(f\" X: {X.shape}\")\n",
    "print(f\" y: {y.shape}\")"
   ]
  },
  {
   "cell_type": "code",
   "execution_count": 33,
   "metadata": {},
   "outputs": [],
   "source": [
    "X_train, X_test, y_train, y_test = train_test_split(X, y, test_size=0.2, random_state=42)\n"
   ]
  },
  {
   "cell_type": "code",
   "execution_count": 34,
   "metadata": {},
   "outputs": [
    {
     "name": "stdout",
     "output_type": "stream",
     "text": [
      "Area                   object\n",
      "Room                    int64\n",
      "Parking                  bool\n",
      "Warehouse                bool\n",
      "Elevator                 bool\n",
      "                        ...  \n",
      "Address_Yousef Abad      bool\n",
      "Address_Zafar            bool\n",
      "Address_Zaferanieh       bool\n",
      "Address_Zargandeh        bool\n",
      "Address_Zibadasht        bool\n",
      "Length: 197, dtype: object\n"
     ]
    }
   ],
   "source": [
    "print(X_train.dtypes)"
   ]
  },
  {
   "cell_type": "code",
   "execution_count": 35,
   "metadata": {},
   "outputs": [
    {
     "name": "stdout",
     "output_type": "stream",
     "text": [
      "Area                   int64\n",
      "Room                   int64\n",
      "Parking                 bool\n",
      "Warehouse               bool\n",
      "Elevator                bool\n",
      "                       ...  \n",
      "Address_Yousef Abad     bool\n",
      "Address_Zafar           bool\n",
      "Address_Zaferanieh      bool\n",
      "Address_Zargandeh       bool\n",
      "Address_Zibadasht       bool\n",
      "Length: 197, dtype: object\n"
     ]
    }
   ],
   "source": [
    "for col in X_train.select_dtypes(include='object').columns:\n",
    "    X_train[col] = X_train[col].str.strip().str.replace(',', '')\n",
    "    X_train[col] = pd.to_numeric(X_train[col], errors='coerce')\n",
    "for col in X_test.select_dtypes(include='object').columns:\n",
    "    X_test[col] = X_test[col].str.strip().str.replace(',', '')\n",
    "    X_test[col] = pd.to_numeric(X_test[col], errors='coerce')\n",
    "print(X_train.dtypes)\n"
   ]
  },
  {
   "cell_type": "code",
   "execution_count": 36,
   "metadata": {},
   "outputs": [
    {
     "name": "stdout",
     "output_type": "stream",
     "text": [
      "Train shape: (2616, 197)\n",
      "Test shape: (655, 197)\n"
     ]
    }
   ],
   "source": [
    "scaler = StandardScaler()\n",
    "X_train_scaled = scaler.fit_transform(X_train)\n",
    "X_test_scaled = scaler.transform(X_test)\n",
    "\n",
    "print(\"Train shape:\", X_train_scaled.shape)\n",
    "print(\"Test shape:\", X_test_scaled.shape)\n"
   ]
  },
  {
   "cell_type": "code",
   "execution_count": 37,
   "metadata": {},
   "outputs": [
    {
     "name": "stdout",
     "output_type": "stream",
     "text": [
      "میانگین مربعات خطا (MSE): 31274521266.266876\n",
      "ضریب تعیین (R²): 0.5110676836948107\n"
     ]
    }
   ],
   "source": [
    "# ایجاد مدل رگرسیون خطی\n",
    "lin_reg = LinearRegression()\n",
    "\n",
    "# آموزش مدل روی داده‌های استاندارد شده آموزشی\n",
    "lin_reg.fit(X_train_scaled, y_train)\n",
    "\n",
    "# پیش‌بینی روی داده‌های آزمون\n",
    "y_pred = lin_reg.predict(X_test_scaled)\n",
    "\n",
    "# محاسبه معیارهای ارزیابی\n",
    "mse = mean_squared_error(y_test, y_pred)\n",
    "r2 = r2_score(y_test, y_pred)\n",
    "\n",
    "print(\"میانگین مربعات خطا (MSE):\", mse)\n",
    "print(\"ضریب تعیین (R²):\", r2)"
   ]
  },
  {
   "cell_type": "code",
   "execution_count": 38,
   "metadata": {},
   "outputs": [
    {
     "name": "stdout",
     "output_type": "stream",
     "text": [
      "ستون‌های دیتافریم بعد از حذف Price(USD):\n",
      "Index(['Area', 'Room', 'Parking', 'Warehouse', 'Elevator', 'Price',\n",
      "       'Address_Abbasabad', 'Address_Absard', 'Address_Abuzar',\n",
      "       'Address_Afsarieh',\n",
      "       ...\n",
      "       'Address_Waterfall', 'Address_West Ferdows Boulevard',\n",
      "       'Address_West Pars', 'Address_Yaftabad', 'Address_Yakhchiabad',\n",
      "       'Address_Yousef Abad', 'Address_Zafar', 'Address_Zaferanieh',\n",
      "       'Address_Zargandeh', 'Address_Zibadasht'],\n",
      "      dtype='object', length=198)\n"
     ]
    }
   ],
   "source": [
    "\n",
    "df.drop(columns=[\"Price(USD)\"], inplace=True)\n",
    "\n",
    "print(\"ستون‌های دیتافریم بعد از حذف Price(USD):\")\n",
    "print(df.columns)"
   ]
  },
  {
   "cell_type": "code",
   "execution_count": 39,
   "metadata": {},
   "outputs": [
    {
     "name": "stdout",
     "output_type": "stream",
     "text": [
      "تعداد مقدارهای نامعتبر در `Area`: 6\n",
      "count    3265.000000\n",
      "mean      107.543645\n",
      "std        70.734379\n",
      "min        30.000000\n",
      "25%        70.000000\n",
      "50%        90.000000\n",
      "75%       121.000000\n",
      "max       929.000000\n",
      "Name: Area, dtype: float64\n"
     ]
    }
   ],
   "source": [
    "# تبدیل `Area` به مقدار عددی (اگر خطایی وجود داشته باشه، مقدار نامعتبر به NaN تبدیل می‌شه)\n",
    "df[\"Area\"] = pd.to_numeric(df[\"Area\"], errors=\"coerce\")\n",
    "\n",
    "# بررسی اینکه آیا مقدارهای نامعتبر (NaN) داریم\n",
    "invalid_areas = df[\"Area\"].isna().sum()\n",
    "print(f\"تعداد مقدارهای نامعتبر در `Area`: {invalid_areas}\")\n",
    "\n",
    "# حذف مقدارهای نامعتبر\n",
    "df.dropna(subset=[\"Area\"], inplace=True)\n",
    "\n",
    "# تبدیل دوباره به `int` (اختیاری، اگر می‌خواهی فقط اعداد صحیح باشند)\n",
    "df[\"Area\"] = df[\"Area\"].astype(int)\n",
    "\n",
    "# نمایش خلاصه‌ای از داده‌ها بعد از تبدیل\n",
    "print(df[\"Area\"].describe())\n"
   ]
  },
  {
   "cell_type": "code",
   "execution_count": 40,
   "metadata": {},
   "outputs": [
    {
     "name": "stdout",
     "output_type": "stream",
     "text": [
      "حد بالای منطقی برای Area: 197.5\n",
      "تعداد مقدارهای پرت: 229\n",
      "تعداد داده‌های قبل از حذف مقدار پرت: 3265\n",
      "تعداد داده‌های بعد از حذف مقدار پرت: 3036\n"
     ]
    }
   ],
   "source": [
    "# محاسبه چارک اول (Q1) و سوم (Q3)\n",
    "Q1 = df[\"Area\"].quantile(0.25)\n",
    "Q3 = df[\"Area\"].quantile(0.75)\n",
    "IQR = Q3 - Q1\n",
    "\n",
    "# تعیین حد بالا برای مقدار پرت\n",
    "upper_limit = Q3 + 1.5 * IQR\n",
    "\n",
    "# نمایش مقدار حد بالا\n",
    "print(f\"حد بالای منطقی برای Area: {upper_limit}\")\n",
    "\n",
    "# تعداد مقدارهای پرت\n",
    "outliers = df[df[\"Area\"] > upper_limit]\n",
    "print(f\"تعداد مقدارهای پرت: {outliers.shape[0]}\")\n",
    "\n",
    "# حذف مقدارهای پرت\n",
    "df_cleaned = df[df[\"Area\"] <= upper_limit]\n",
    "\n",
    "# نمایش تعداد داده‌ها قبل و بعد از حذف\n",
    "print(f\"تعداد داده‌های قبل از حذف مقدار پرت: {df.shape[0]}\")\n",
    "print(f\"تعداد داده‌های بعد از حذف مقدار پرت: {df_cleaned.shape[0]}\")\n",
    "\n",
    "# آپدیت دیتافریم اصلی\n",
    "df = df_cleaned\n",
    "\n"
   ]
  },
  {
   "cell_type": "code",
   "execution_count": 41,
   "metadata": {},
   "outputs": [
    {
     "data": {
      "image/png": "[encoded data removed]",
      "text/plain": [
       "<Figure size 1200x500 with 2 Axes>"
      ]
     },
     "metadata": {},
     "output_type": "display_data"
    }
   ],
   "source": [
    "\n",
    "# رسم هیستوگرام و باکس‌پلات برای Price\n",
    "plt.figure(figsize=(12, 5))\n",
    "\n",
    "plt.subplot(1, 2, 1)\n",
    "sns.histplot(df[\"Price\"], bins=50, kde=True)\n",
    "plt.title(\"Price Distribution\")\n",
    "\n",
    "plt.subplot(1, 2, 2)\n",
    "sns.boxplot(x=df[\"Price\"])\n",
    "plt.title(\"Price Boxplot\")\n",
    "\n",
    "plt.show()"
   ]
  },
  {
   "cell_type": "code",
   "execution_count": 42,
   "metadata": {},
   "outputs": [
    {
     "name": "stdout",
     "output_type": "stream",
     "text": [
      "حد بالای منطقی برای Price: 10831250000.0\n",
      "تعداد مقدارهای پرت: 205\n",
      "تعداد داده‌های قبل از حذف مقدار پرت: 3036\n",
      "تعداد داده‌های بعد از حذف مقدار پرت: 2831\n"
     ]
    }
   ],
   "source": [
    "# محاسبه چارک اول (Q1) و سوم (Q3)\n",
    "Q1 = df[\"Price\"].quantile(0.25)\n",
    "Q3 = df[\"Price\"].quantile(0.75)\n",
    "IQR = Q3 - Q1\n",
    "\n",
    "# تعیین حد بالا برای مقدار پرت\n",
    "upper_limit = Q3 + 1.5 * IQR\n",
    "\n",
    "# نمایش مقدار حد بالا\n",
    "print(f\"حد بالای منطقی برای Price: {upper_limit}\")\n",
    "\n",
    "# تعداد مقدارهای پرت\n",
    "outliers = df[df[\"Price\"] > upper_limit]\n",
    "print(f\"تعداد مقدارهای پرت: {outliers.shape[0]}\")\n",
    "\n",
    "# حذف مقدارهای پرت\n",
    "df_cleaned = df[df[\"Price\"] <= upper_limit]\n",
    "\n",
    "# نمایش تعداد داده‌ها قبل و بعد از حذف\n",
    "print(f\"تعداد داده‌های قبل از حذف مقدار پرت: {df.shape[0]}\")\n",
    "print(f\"تعداد داده‌های بعد از حذف مقدار پرت: {df_cleaned.shape[0]}\")\n",
    "\n",
    "# آپدیت دیتافریم اصلی\n",
    "df = df_cleaned\n"
   ]
  },
  {
   "cell_type": "code",
   "execution_count": 43,
   "metadata": {},
   "outputs": [
    {
     "name": "stdout",
     "output_type": "stream",
     "text": [
      "میانگین هر ویژگی بعد از استانداردسازی:\n",
      "Area                   0.0\n",
      "Room                   0.0\n",
      "Parking               -0.0\n",
      "Warehouse              0.0\n",
      "Elevator               0.0\n",
      "                      ... \n",
      "Address_Yousef Abad   -0.0\n",
      "Address_Zafar         -0.0\n",
      "Address_Zaferanieh    -0.0\n",
      "Address_Zargandeh     -0.0\n",
      "Address_Zibadasht      0.0\n",
      "Length: 197, dtype: float64\n",
      "\n",
      "انحراف معیار هر ویژگی بعد از استانداردسازی:\n",
      "Area                   1.0\n",
      "Room                   1.0\n",
      "Parking                1.0\n",
      "Warehouse              1.0\n",
      "Elevator               1.0\n",
      "                      ... \n",
      "Address_Yousef Abad    1.0\n",
      "Address_Zafar          1.0\n",
      "Address_Zaferanieh     1.0\n",
      "Address_Zargandeh      1.0\n",
      "Address_Zibadasht      1.0\n",
      "Length: 197, dtype: float64\n"
     ]
    }
   ],
   "source": [
    "# انتخاب ویژگی‌ها (همه ستون‌ها به جز Price)\n",
    "X = df.drop(columns=[\"Price\"])\n",
    "\n",
    "# استانداردسازی ویژگی‌ها\n",
    "scaler = StandardScaler()\n",
    "X_scaled = scaler.fit_transform(X)\n",
    "\n",
    "# تبدیل به DataFrame\n",
    "X_scaled = pd.DataFrame(X_scaled, columns=X.columns)\n",
    "\n",
    "# بررسی میانگین و انحراف معیار بعد از استانداردسازی\n",
    "print(f\"میانگین هر ویژگی بعد از استانداردسازی:\\n{X_scaled.mean().round(2)}\")\n",
    "print(f\"\\nانحراف معیار هر ویژگی بعد از استانداردسازی:\\n{X_scaled.std().round(2)}\")"
   ]
  },
  {
   "cell_type": "code",
   "execution_count": 44,
   "metadata": {},
   "outputs": [
    {
     "name": "stdout",
     "output_type": "stream",
     "text": [
      "میانگین مربعات خطا (MSE): 1.1490612167721311e+18\n",
      "ضریب تعیین (R²): 0.7942907764895489\n"
     ]
    }
   ],
   "source": [
    "# متغیر هدف (Price)\n",
    "y = df[\"Price\"]\n",
    "\n",
    "# تقسیم داده‌ها (۸۰٪ آموزش، ۲۰٪ تست)\n",
    "X_train, X_test, y_train, y_test = train_test_split(X_scaled, y, test_size=0.2, random_state=42)\n",
    "\n",
    "# ایجاد مدل رگرسیون خطی\n",
    "lin_reg = LinearRegression()\n",
    "\n",
    "# آموزش مدل روی داده‌های استاندارد شده آموزشی\n",
    "lin_reg.fit(X_train, y_train)\n",
    "\n",
    "# پیش‌بینی روی داده‌های آزمون\n",
    "y_pred = lin_reg.predict(X_test)\n",
    "\n",
    "# محاسبه معیارهای ارزیابی\n",
    "mse = mean_squared_error(y_test, y_pred)\n",
    "r2 = r2_score(y_test, y_pred)\n",
    "\n",
    "print(\"میانگین مربعات خطا (MSE):\", mse)\n",
    "print(\"ضریب تعیین (R²):\", r2)"
   ]
  }
 ],
 "metadata": {
  "kernelspec": {
   "display_name": "Python 3",
   "language": "python",
   "name": "python3"
  },
  "language_info": {
   "codemirror_mode": {
    "name": "ipython",
    "version": 3
   },
   "file_extension": ".py",
   "mimetype": "text/x-python",
   "name": "python",
   "nbconvert_exporter": "python",
   "pygments_lexer": "ipython3",
   "version": "3.13.2"
  }
 },
 "nbformat": 4,
 "nbformat_minor": 2
}
